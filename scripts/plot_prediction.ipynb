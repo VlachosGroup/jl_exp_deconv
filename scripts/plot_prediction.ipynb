{
 "cells": [
  {
   "cell_type": "code",
   "execution_count": null,
   "metadata": {},
   "outputs": [],
   "source": [
    "from __future__ import absolute_import, division, print_function\n",
    "import os\n",
    "from pquad import IR_Results\n",
    "from pquad import get_defaults\n",
    "from pquad.plotting_tools import set_figure_settings"
   ]
  },
  {
   "cell_type": "code",
   "execution_count": null,
   "metadata": {},
   "outputs": [],
   "source": [
    "#set the figure settings to paper and make matplotlib inline\n",
    "%matplotlib inline\n",
    "set_figure_settings('paper')"
   ]
  },
  {
   "cell_type": "code",
   "execution_count": null,
   "metadata": {},
   "outputs": [],
   "source": [
    "#get default paths of data\n",
    "frequency_range, pure_data_path, mixture_data_path = get_defaults()\n",
    "mixture_data_path_file = os.path.join(mixture_data_path,os.listdir(mixture_data_path)[4])"
   ]
  },
  {
   "cell_type": "code",
   "execution_count": null,
   "metadata": {},
   "outputs": [],
   "source": [
    "#create IR_Results object, initialize mixture data and print prediction for a mixture\n",
    "deconv = IR_Results(4,frequency_range,pure_data_path)\n",
    "deconv.get_mixture_data(mixture_data_path_file)\n",
    "print(deconv.MIXTURE_NAMES[0])\n",
    "print('Prediction [M]: ' + str(deconv.get_predictions(deconv.MIXTURE_STANDARDIZED[0])))\n",
    "print('Actual Concentration [M]: ' + str(deconv.MIXTURE_CONCENTRATIONS[0]))\n",
    "\n",
    "#generate figures\n",
    "deconv.plot_deconvoluted_spectra('print')"
   ]
  },
  {
   "cell_type": "code",
   "execution_count": null,
   "metadata": {},
   "outputs": [],
   "source": [
    "#create IR_Results object, initialize mixture data and print prediction parity plot for all mixtures\n",
    "deconv = IR_Results(4,frequency_range,pure_data_path)\n",
    "deconv.get_mixture_data(mixture_data_path)\n",
    "\n",
    "#generate figure including 95% confidence interval\n",
    "deconv.plot_parity_plot('print')"
   ]
  }
 ],
 "metadata": {
  "kernelspec": {
   "display_name": "Python 3",
   "language": "python",
   "name": "python3"
  },
  "language_info": {
   "codemirror_mode": {
    "name": "ipython",
    "version": 3
   },
   "file_extension": ".py",
   "mimetype": "text/x-python",
   "name": "python",
   "nbconvert_exporter": "python",
   "pygments_lexer": "ipython3",
   "version": "3.7.3"
  }
 },
 "nbformat": 4,
 "nbformat_minor": 2
}
