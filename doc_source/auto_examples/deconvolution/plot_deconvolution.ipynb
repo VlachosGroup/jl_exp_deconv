{
  "cells": [
    {
      "cell_type": "code",
      "execution_count": null,
      "metadata": {
        "collapsed": false
      },
      "outputs": [],
      "source": [
        "%matplotlib inline"
      ]
    },
    {
      "cell_type": "markdown",
      "metadata": {},
      "source": [
        "\n# Deconvoluting spectra with pquad\n\n\nThis example shows how to deconvolute spectra using the model\n\nThe parity plot for the mixtures where concentrations are known is shown in\nfigure 1 and the plot of concentration with time for the experimental spectra\nfrom reacting systems are shown in figure 2 and 3 for different starting\nconcentrations\n"
      ]
    },
    {
      "cell_type": "code",
      "execution_count": null,
      "metadata": {
        "collapsed": false
      },
      "outputs": [],
      "source": [
        "from __future__ import absolute_import, division, print_function\nimport os\nimport numpy as np\nimport matplotlib.pyplot as plt\nfrom pquad import IR_Results\nfrom pquad import get_defaults\nfrom pquad.plotting_tools import set_figure_settings"
      ]
    },
    {
      "cell_type": "markdown",
      "metadata": {},
      "source": [
        "Loading data\n------------\n\nFirst, we'll get the default data and load it into pquad. It automatically\nfits the model to the data in pure_data_path\n\n"
      ]
    },
    {
      "cell_type": "code",
      "execution_count": null,
      "metadata": {
        "collapsed": false
      },
      "outputs": [],
      "source": [
        "frequency_range, pure_data_path, mixture_data_path, reaction_data_path = get_defaults()\ndeconv = IR_Results(4, frequency_range, pure_data_path)\nmixture_data_path_file = os.path.join(mixture_data_path, os.listdir(mixture_data_path)[4])\ndeconv.set_mixture_data(mixture_data_path_file)\ndeconv_reaction = IR_Results(4, frequency_range, pure_data_path)\ndeconv_reaction.set_mixture_data(reaction_data_path, contains_concentrations=False)"
      ]
    },
    {
      "cell_type": "markdown",
      "metadata": {},
      "source": [
        "Set figure settings\n-------------------\n\n\n"
      ]
    },
    {
      "cell_type": "code",
      "execution_count": null,
      "metadata": {
        "collapsed": false
      },
      "outputs": [],
      "source": [
        "figure_folder='fit'\nset_figure_settings('presentation')"
      ]
    },
    {
      "cell_type": "markdown",
      "metadata": {},
      "source": [
        "Plot deconvolution for mixture with known species-concentrations\n----------------------------------------------------------------\n\nPlot comparison of deconvoluted spectra and pure-spectra\n\n"
      ]
    },
    {
      "cell_type": "code",
      "execution_count": null,
      "metadata": {
        "collapsed": false
      },
      "outputs": [],
      "source": [
        "deconv.plot_deconvoluted_spectra(figure_folder)"
      ]
    },
    {
      "cell_type": "markdown",
      "metadata": {},
      "source": [
        "Plot deconvolution of Fructose and HMF during reaction\n------------------------------------------------------\n\n"
      ]
    },
    {
      "cell_type": "code",
      "execution_count": null,
      "metadata": {
        "collapsed": false
      },
      "outputs": [],
      "source": [
        "deconvouted_spectra = deconv_reaction.get_deconvoluted_spectra(deconv_reaction.MIXTURE_STANDARDIZED)\nfor i in range(deconv_reaction.NUM_TARGETS):\n    if deconv_reaction.PURE_NAMES[i] == 'Fructose':\n        fructose_index = i\n    elif deconv_reaction.PURE_NAMES[i] == 'HMF':\n        HMF_index = i\nplt.figure(figsize=(7.9,5))\nColors = ['orange','g','b','r']\nfor count, spectra in enumerate(np.array(deconvouted_spectra[0])[:,fructose_index][0::5]):\n    plt.plot(deconv_reaction.FREQUENCY_RANGE,spectra, color=Colors[count], linestyle=':')\nfor count, spectra in enumerate(np.array(deconvouted_spectra[0])[:,HMF_index][0::5]):\n    plt.plot(deconv_reaction.FREQUENCY_RANGE,spectra,color=Colors[count], linestyle='-')\nplt.legend([str(i) for i in np.arange(len(np.array(deconvouted_spectra[0])[:,fructose_index]))[0::5]] +\\\n            [str(i) for i in np.arange(len(np.array(deconvouted_spectra[0])[:,HMF_index]))[0::5]],title='Time: Fructose (dotted) and HMF (line)',ncol=2)\nplt.xlabel('Frequency [cm$^{-1}$]')\nplt.ylabel('Intensity')\nplt.show()"
      ]
    }
  ],
  "metadata": {
    "kernelspec": {
      "display_name": "Python 3",
      "language": "python",
      "name": "python3"
    },
    "language_info": {
      "codemirror_mode": {
        "name": "ipython",
        "version": 3
      },
      "file_extension": ".py",
      "mimetype": "text/x-python",
      "name": "python",
      "nbconvert_exporter": "python",
      "pygments_lexer": "ipython3",
      "version": "3.7.4"
    }
  },
  "nbformat": 4,
  "nbformat_minor": 0
}