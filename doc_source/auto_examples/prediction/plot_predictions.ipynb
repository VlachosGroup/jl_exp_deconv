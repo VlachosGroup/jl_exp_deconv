{
  "cells": [
    {
      "cell_type": "code",
      "execution_count": null,
      "metadata": {
        "collapsed": false
      },
      "outputs": [],
      "source": [
        "%matplotlib inline"
      ]
    },
    {
      "cell_type": "markdown",
      "metadata": {},
      "source": [
        "\n# Predicting mixture concentration with pquad\n\n\nThis example shows how to plot predictions from the model\n\nThe parity plot for the mixtures where concentrations are known is shown in\nfigure 1 and the plot of concentration with time for the experimental spectra\nfrom reacting systems are shown in figure 2 and 3 for different starting\nconcentrations\n"
      ]
    },
    {
      "cell_type": "code",
      "execution_count": null,
      "metadata": {
        "collapsed": false
      },
      "outputs": [],
      "source": [
        "from pquad import IR_Results\nfrom pquad import get_defaults\nfrom pquad.plotting_tools import set_figure_settings"
      ]
    },
    {
      "cell_type": "markdown",
      "metadata": {},
      "source": [
        "Loading data\n------------\n\nFirst, we'll get the default data and load it into pquad. It automatically\nfits the model to the data in pure_data_path\n\n"
      ]
    },
    {
      "cell_type": "code",
      "execution_count": null,
      "metadata": {
        "collapsed": false
      },
      "outputs": [],
      "source": [
        "frequency_range, pure_data_path, mixture_data_path, reaction_data_path = get_defaults()\ndeconv = IR_Results(4, frequency_range, pure_data_path)\ndeconv.set_mixture_data(mixture_data_path)\ndeconv_reaction = IR_Results(4, frequency_range, pure_data_path)\ndeconv_reaction.set_mixture_data(reaction_data_path, contains_concentrations=False)"
      ]
    },
    {
      "cell_type": "markdown",
      "metadata": {},
      "source": [
        "Set figure settings\n-------------------\n\n\n"
      ]
    },
    {
      "cell_type": "code",
      "execution_count": null,
      "metadata": {
        "collapsed": false
      },
      "outputs": [],
      "source": [
        "figure_folder='fit'\nset_figure_settings('presentation')"
      ]
    },
    {
      "cell_type": "markdown",
      "metadata": {},
      "source": [
        "Plot parity plot\n----------------\n\nMake parity plot with the 95% prediction intervals\n\n"
      ]
    },
    {
      "cell_type": "code",
      "execution_count": null,
      "metadata": {
        "collapsed": false
      },
      "outputs": [],
      "source": [
        "deconv.plot_parity_plot(figure_folder)"
      ]
    },
    {
      "cell_type": "markdown",
      "metadata": {},
      "source": [
        "Plot reaction plots\n-------------------\n\nMake reaction plots with the 95% prediction intervals\n\n"
      ]
    },
    {
      "cell_type": "code",
      "execution_count": null,
      "metadata": {
        "collapsed": false
      },
      "outputs": [],
      "source": [
        "deconv_reaction.get_reaction_figures(figure_folder)"
      ]
    }
  ],
  "metadata": {
    "kernelspec": {
      "display_name": "Python 3",
      "language": "python",
      "name": "python3"
    },
    "language_info": {
      "codemirror_mode": {
        "name": "ipython",
        "version": 3
      },
      "file_extension": ".py",
      "mimetype": "text/x-python",
      "name": "python",
      "nbconvert_exporter": "python",
      "pygments_lexer": "ipython3",
      "version": "3.7.4"
    }
  },
  "nbformat": 4,
  "nbformat_minor": 0
}