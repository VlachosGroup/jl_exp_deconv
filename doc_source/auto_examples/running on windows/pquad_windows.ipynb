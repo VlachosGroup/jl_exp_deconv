{
  "cells": [
    {
      "cell_type": "code",
      "execution_count": null,
      "metadata": {
        "collapsed": false
      },
      "outputs": [],
      "source": [
        "%matplotlib inline"
      ]
    },
    {
      "cell_type": "markdown",
      "metadata": {},
      "source": [
        "\n====================================================\nPython file created by .bat to run easily on Windows\n====================================================\n\nThis script saves all relevant examples and lets you add your own data through a prompt.\n"
      ]
    },
    {
      "cell_type": "code",
      "execution_count": null,
      "metadata": {
        "collapsed": false
      },
      "outputs": [],
      "source": [
        "import numpy as np\nfrom jl_exp_deconv import get_defaults\nfrom jl_exp_deconv import IR_Results\nfrom jl_exp_deconv.plotting_tools import set_figure_settings\nfrom ast import literal_eval\n\nset_figure_settings('paper')\n#frequency_range = np.linspace(850,1850,num=501,endpoint=True)\nfrequency_range, pure_data_path, mixture_data_path_default, reaction_data_path_default = get_defaults()\npca_to_keep = 4\nuse_your_own = input('Do you want to use your own pure-data? Responds \"yes\" or \"no\" without quotes. \\\nRespond no if you want to use the default pure data to train the model.: ').strip('\\' \\\"')\nif use_your_own.lower() in ['yes', 'y']:\n    pure_data_path = input('Please enter the directory to the pure-species data file: ').strip('\\' \\\"')\n    frequency_start = input('Please enter the lowest frequency to consider: ').strip('\\' \\\"')\n    frequency_end = input('Please enter the highest frequency to consider: ').strip('\\' \\\"')\n    pca_to_keep = input('Please enter the number of principal componets in the spectra to keep. \\\nA good starting number is the number of pure-components: ').strip('\\' \\\"')\n    frequency_range = np.linspace(float(frequency_start),float(frequency_end),num=501,endpoint=True)\nmixture_data_path = input('Please enter the directory to the mixture data: ').strip('\\' \\\"')\noutput_folder = input('Please enter the directory to the save the data: ').strip('\\' \\\"')\nTrue_or_False = input('Does the mixture data contain known concentrations? \\\nEnter \"True\" or \"False\" without quotes. If True,\\\na parity plot is made. If False, the data is considred reaction data.: ').strip('\\' \\\"')\nif True_or_False.lower() in ['yes', 'y', 'true', 't']:\n    True_or_False = True\nelif True_or_False.lower() in ['no', 'n', 'false', 'f']:\n    True_or_False = False\ncontains_concentrations = True_or_False\ndeconv = IR_Results(int(pca_to_keep), frequency_range, pure_data_path)\ndeconv.set_mixture_data(mixture_data_path, contains_concentrations=contains_concentrations)\nif contains_concentrations == True:\n    deconv.get_mixture_figures(output_folder)\n    deconv.save_parity_data(output_folder)\n    deconv.save_deconvoluted_spectra(output_folder)\nelse:\n    deconv.get_reaction_figures(output_folder)\n    deconv.save_reaction_data(output_folder)"
      ]
    }
  ],
  "metadata": {
    "kernelspec": {
      "display_name": "Python 3",
      "language": "python",
      "name": "python3"
    },
    "language_info": {
      "codemirror_mode": {
        "name": "ipython",
        "version": 3
      },
      "file_extension": ".py",
      "mimetype": "text/x-python",
      "name": "python",
      "nbconvert_exporter": "python",
      "pygments_lexer": "ipython3",
      "version": "3.7.4"
    }
  },
  "nbformat": 4,
  "nbformat_minor": 0
}